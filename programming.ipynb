{
  "nbformat": 4,
  "nbformat_minor": 0,
  "metadata": {
    "colab": {
      "name": "Untitled3.ipynb",
      "provenance": [],
      "authorship_tag": "ABX9TyMb6FApLJnnPrbUkbt6nC4J",
      "include_colab_link": true
    },
    "kernelspec": {
      "name": "python3",
      "display_name": "Python 3"
    }
  },
  "cells": [
    {
      "cell_type": "markdown",
      "metadata": {
        "id": "view-in-github",
        "colab_type": "text"
      },
      "source": [
        "<a href=\"https://colab.research.google.com/github/2017130744/class2021spring/blob/main/programming.ipynb\" target=\"_parent\"><img src=\"https://colab.research.google.com/assets/colab-badge.svg\" alt=\"Open In Colab\"/></a>"
      ]
    },
    {
      "cell_type": "code",
      "metadata": {
        "id": "mS0DHpeegNM7"
      },
      "source": [
        ""
      ],
      "execution_count": null,
      "outputs": []
    },
    {
      "cell_type": "markdown",
      "metadata": {
        "id": "_qrlTAMYoqbt"
      },
      "source": [
        "프로그래밍이란?\r\n",
        "\r\n",
        "사람의 언어는 단어와 문법으로 되어있다. 이것은 인간의 언어. \r\n",
        "a=1 이라 했을 때 a는 인간의 언어로 하면 단어에 해당한다. 프로그래밍 언어에서는 variable->변수 라고 한다. 저기서 =는 같다는 뜻이 아니라 오른쪽 내용을 왼쪽에 assign한다는 뜻이다. (할당) \r\n",
        "\r\n",
        "사과를 철수에게 얻었다. -> 정해진 문법이 있다. 문법을 잘 지켜야 제대로된 말이 된다. 단어만 랜덤하게 열거해서는 어떤 의미도 제대로 전달할 수 없다. \r\n",
        "컴퓨터에서 문법은 제어문이라고 한다.\r\n",
        "1. 반복: 똑같은 것을 반복하는 것. -> for\r\n",
        " \r\n",
        "  ex) for 100\r\n",
        "\r\n",
        "   print (1)\r\n",
        "\r\n",
        "  -> 1을 100번 프린트하라\r\n",
        "\r\n",
        "2. 조건: if  \r\n",
        "\r\n",
        "  ex) a = 1\r\n",
        "\r\n",
        "  if a == 1\r\n",
        "\r\n",
        "  print (3) \r\n",
        "\r\n",
        "  이 때 3이 출력된다.\r\n",
        "\r\n",
        "모든 computer language가 for 과 if를 가지고 있다. \r\n",
        "\r\n",
        "*함수\r\n",
        "\r\n",
        "함수는 입출력관계이다. 입력(input)이 있으면 반드시 출력(output)이 있다. \r\n",
        "y=f(x) 같은 함수이다. x는 입력, y는 출력.\r\n",
        "함수는 이 세상의 모든 입출력 관계가 성립하는 모든 것이 해당한다.\r\n",
        "인간의 몸도 함수이다. 음식물이라는 입력값이 여러 가지 출력값을 만든다. "
      ]
    }
  ]
}